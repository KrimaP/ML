{
 "cells": [
  {
   "cell_type": "code",
   "execution_count": 1,
   "metadata": {},
   "outputs": [
    {
     "name": "stdout",
     "output_type": "stream",
     "text": [
      "Empty Dictionary: \n",
      "{}\n"
     ]
    }
   ],
   "source": [
    "# Creating an empty Dictionary   \n",
    "D = {}   \n",
    "print(\"Empty Dictionary: \")   \n",
    "print(D)  "
   ]
  },
  {
   "cell_type": "code",
   "execution_count": 2,
   "metadata": {},
   "outputs": [
    {
     "name": "stdout",
     "output_type": "stream",
     "text": [
      "{1: 'Hello', 2: 'World', 3: '!'}\n"
     ]
    }
   ],
   "source": [
    "# Creating a Dictionary with dict() method   \n",
    "D = dict({1: 'Hello', 2: 'World', 3:'!'})     \n",
    "print(D)   "
   ]
  },
  {
   "cell_type": "code",
   "execution_count": 3,
   "metadata": {},
   "outputs": [
    {
     "name": "stdout",
     "output_type": "stream",
     "text": [
      "{1: 'Kishan', 2: 'Krima', 3: 'Nima', 4: 'Yagni'}\n"
     ]
    }
   ],
   "source": [
    "# Creating a Dictionary with each item as a Pair   \n",
    "name = dict([(1, 'Kishan'), (2, 'Krima'),(3, 'Nima'),(4, 'Yagni')])   \n",
    "print(name)  "
   ]
  },
  {
   "cell_type": "code",
   "execution_count": 12,
   "metadata": {},
   "outputs": [
    {
     "name": "stdout",
     "output_type": "stream",
     "text": [
      "{0: 'Peter', 2: 'Joseph', 3: 'Ricky'}\n"
     ]
    }
   ],
   "source": [
    "# Adding elements to dictionary one at a time   \n",
    "n = {}\n",
    "n[0] = 'Peter'  \n",
    "n[2] = 'Joseph'  \n",
    "n[3] = 'Ricky'   \n",
    "print(n) "
   ]
  },
  {
   "cell_type": "code",
   "execution_count": 13,
   "metadata": {},
   "outputs": [
    {
     "name": "stdout",
     "output_type": "stream",
     "text": [
      "{2: 'Joseph', 3: 'Ricky'}\n"
     ]
    }
   ],
   "source": [
    "del n[0]  \n",
    "print(n) "
   ]
  },
  {
   "cell_type": "code",
   "execution_count": 16,
   "metadata": {},
   "outputs": [
    {
     "name": "stdout",
     "output_type": "stream",
     "text": [
      "{2: 11, 3: 12, 0: 9, 1: 10, 4: 13}\n",
      "{2: 11, 3: 12, 0: 9, 1: 10, 4: 13}\n"
     ]
    }
   ],
   "source": [
    "print(n)\n",
    "x=0\n",
    "for x in range(5):    \n",
    "    n[x] = x+9\n",
    "print(n)"
   ]
  },
  {
   "cell_type": "code",
   "execution_count": 17,
   "metadata": {},
   "outputs": [
    {
     "data": {
      "text/plain": [
       "5"
      ]
     },
     "execution_count": 17,
     "metadata": {},
     "output_type": "execute_result"
    }
   ],
   "source": [
    "len(n)"
   ]
  },
  {
   "cell_type": "code",
   "execution_count": 19,
   "metadata": {},
   "outputs": [
    {
     "data": {
      "text/plain": [
       "dict"
      ]
     },
     "execution_count": 19,
     "metadata": {},
     "output_type": "execute_result"
    }
   ],
   "source": [
    "type(n)"
   ]
  },
  {
   "cell_type": "code",
   "execution_count": 22,
   "metadata": {},
   "outputs": [
    {
     "data": {
      "text/plain": [
       "dict_keys([2, 3, 0, 1, 4])"
      ]
     },
     "execution_count": 22,
     "metadata": {},
     "output_type": "execute_result"
    }
   ],
   "source": [
    "n.keys()"
   ]
  },
  {
   "cell_type": "code",
   "execution_count": 23,
   "metadata": {},
   "outputs": [
    {
     "data": {
      "text/plain": [
       "dict_values([11, 12, 9, 10, 13])"
      ]
     },
     "execution_count": 23,
     "metadata": {},
     "output_type": "execute_result"
    }
   ],
   "source": [
    "n.values()"
   ]
  },
  {
   "cell_type": "code",
   "execution_count": 24,
   "metadata": {},
   "outputs": [
    {
     "data": {
      "text/plain": [
       "dict_items([(2, 11), (3, 12), (0, 9), (1, 10), (4, 13)])"
      ]
     },
     "execution_count": 24,
     "metadata": {},
     "output_type": "execute_result"
    }
   ],
   "source": [
    "n.items()"
   ]
  },
  {
   "cell_type": "code",
   "execution_count": null,
   "metadata": {},
   "outputs": [],
   "source": []
  }
 ],
 "metadata": {
  "kernelspec": {
   "display_name": "Python 3",
   "language": "python",
   "name": "python3"
  },
  "language_info": {
   "codemirror_mode": {
    "name": "ipython",
    "version": 3
   },
   "file_extension": ".py",
   "mimetype": "text/x-python",
   "name": "python",
   "nbconvert_exporter": "python",
   "pygments_lexer": "ipython3",
   "version": "3.8.5"
  }
 },
 "nbformat": 4,
 "nbformat_minor": 4
}
